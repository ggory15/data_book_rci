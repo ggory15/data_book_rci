{
 "cells": [
  {
   "cell_type": "markdown",
   "metadata": {},
   "source": [
    "# 1.1 Overview\n",
    "* Definition of the SVD\n",
    "    * 많은 데이터를 가지는 $X \\in R^{n \\times m}$에 대해서 $X = U \\Sigma V^T $ 형태로 분류 할 수 있음.\n",
    "    * 이 때, U와 V는 unitary matrix, (즉, $UU^T = I, VV^T = I$)\n",
    "    * <img src=\"fig/fig1.png\" width=\"40%\" height=\"30%\" title=\"svd\" alt=\"RubberDuck\"></img>\n"
   ]
  },
  {
   "cell_type": "code",
   "execution_count": null,
   "metadata": {},
   "outputs": [],
   "source": [
    "import numpy as np\n",
    "X = np.random.rand(5, 3)\n",
    "print (\"원래의 X\")\n",
    "print (X) # X\n",
    "U, S, VT = np.linalg.svd(X, full_matrices=True)\n",
    "#print (U, S, VT) # SVD의 결과 \n",
    "\n",
    "Sigma = np.zeros((5, 3))\n",
    "Sigma[0,0] = S[0]\n",
    "Sigma[1,1] = S[1]\n",
    "Sigma[2,2] = S[2]\n",
    "print (\"SVD의 X1\")\n",
    "print (U @ Sigma @ VT) \n",
    "\n",
    "Uhat, Shat, VThat = np.linalg.svd(X, full_matrices=False)\n",
    "# print (Uhat, Shat, VThat)\n",
    "Sigma_hat = np.diag(Shat)\n",
    "print (\"SVD의 X2\")\n",
    "print (Uhat @ Sigma_hat @ VThat) \n",
    "\n"
   ]
  },
  {
   "cell_type": "code",
   "execution_count": null,
   "metadata": {},
   "outputs": [],
   "source": [
    "from matplotlib.image import imread\n",
    "import matplotlib.pyplot as plt\n",
    "import numpy as np\n",
    "import os\n",
    "plt.rcParams['figure.figsize'] = [16, 8]\n",
    "\n",
    "\n",
    "A = imread(os.path.join('..','DATA','dog.jpg'))\n",
    "X = np.mean(A, -1); # Convert RGB to grayscale\n",
    "\n",
    "img = plt.imshow(X)\n",
    "img.set_cmap('gray')\n",
    "plt.axis('off')\n",
    "plt.show()"
   ]
  },
  {
   "cell_type": "code",
   "execution_count": null,
   "metadata": {},
   "outputs": [],
   "source": [
    "U, S, VT = np.linalg.svd(X,full_matrices=False)\n",
    "S = np.diag(S)\n",
    "\n",
    "j = 0\n",
    "for r in (5, 20, 100):\n",
    "    # Construct approximate image\n",
    "    Xapprox = U[:,:r] @ S[0:r,:r] @ VT[:r,:]\n",
    "    plt.figure(j+1)\n",
    "    j += 1\n",
    "    img = plt.imshow(Xapprox)\n",
    "    img.set_cmap('gray')\n",
    "    plt.axis('off')\n",
    "    plt.title('r = ' + str(r))\n",
    "    plt.show()"
   ]
  },
  {
   "cell_type": "code",
   "execution_count": null,
   "metadata": {},
   "outputs": [],
   "source": [
    "## f_ch01_ex02_2\n",
    "\n",
    "plt.figure(1)\n",
    "plt.semilogy(np.diag(S))\n",
    "plt.title('Singular Values')\n",
    "plt.show()\n",
    "\n",
    "plt.figure(2)\n",
    "plt.plot(np.cumsum(np.diag(S))/np.sum(np.diag(S)))\n",
    "plt.title('Singular Values: Cumulative Sum')\n",
    "plt.show()"
   ]
  },
  {
   "cell_type": "code",
   "execution_count": null,
   "metadata": {},
   "outputs": [],
   "source": []
  },
  {
   "cell_type": "code",
   "execution_count": null,
   "metadata": {},
   "outputs": [],
   "source": []
  }
 ],
 "metadata": {
  "kernelspec": {
   "display_name": "Python 3",
   "language": "python",
   "name": "python3"
  },
  "language_info": {
   "codemirror_mode": {
    "name": "ipython",
    "version": 3
   },
   "file_extension": ".py",
   "mimetype": "text/x-python",
   "name": "python",
   "nbconvert_exporter": "python",
   "pygments_lexer": "ipython3",
   "version": "3.8.10"
  }
 },
 "nbformat": 4,
 "nbformat_minor": 2
}
