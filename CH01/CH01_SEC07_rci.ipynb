{
 "cells": [
  {
   "cell_type": "markdown",
   "metadata": {},
   "source": [
    "# 1.7 Truncation and Alignment\n",
    "* Where to truncate when using SVD\n",
    "    * truncation은 임계값 $t$보다 큰 값이 유지되고 나머지 singular value는 truncate 되는 임계값으로 볼 수 있다.\n",
    "    * alignment of data가 SVD approximation의 rank에 영향을 준다.\n",
    "\n",
    "* Optimal Hard Threshold\n",
    "    * 행렬이 Gaussian white noise로 오염된 low-rank structure를 갖는다 가정 하에 optimal hard threshold truncation의 임계값을 결정한다.\n",
    "    * data matrix X를 low rank $X_{true}$와 noise matrix $X_{noise}$의 합으로 가정한다. $X = X_{true} + {\\gamma}X_{noise}$\n",
    "    * $X_{noise}$는 독립적이고 zero mean과 unit variance의 가우시안 랜덤 변수로 가정한다.\n",
    "    * ${\\gamma}$는 noise의 규모이다.\n",
    "    1. 만약 $X \\in R^{n \\times n}$ 이 정방행렬이면 ${\\tau} = (4/{\\sqrt{3}}){\\sqrt{n}}{\\gamma}$\n",
    "    2. 만약 $X \\in R^{n \\times m}$ 이 직사각행렬이면 상수 $4/{\\sqrt{3}}$ 가 ${\\beta} = m/n$ 으로 바뀐다. ${\\tau} = {\\lambda}({\\beta}){\\sqrt{n}}{\\gamma}$\n",
    "    \n",
    "        ${\\lambda}({\\beta}) = (2({\\beta}+1)+8{\\beta}/(({\\beta}+1)+({\\beta}^2+14{\\beta}+1)^{0.5}))^{0.5}$\n",
    "        \n",
    "        $n<<m$ 인 경우 ${\\beta} = n/m$ \n",
    "    3. unknown noise ${\\gamma}$와 unknown 직사각행렬 $X \\in R^{n \\times m}$ 의 경우 ${\\tau} = {\\omega}({\\beta}){\\sigma}_{med}$\n",
    "        <!-- ${\\omega}({\\beta}) = {\\lambda}({\\beta})/{\\mu}_{\\beta}$ 의  -->\n"
   ]
  },
  {
   "cell_type": "markdown",
   "metadata": {},
   "source": [
    "* hard threshold가 더 많은 noise 를 filter할 수 있음을 확인할 수 있다."
   ]
  },
  {
   "cell_type": "code",
   "execution_count": null,
   "metadata": {},
   "outputs": [],
   "source": [
    "import matplotlib.pyplot as plt\n",
    "import matplotlib.patches as patches\n",
    "import numpy as np\n",
    "plt.rcParams['figure.figsize'] = [8, 8]\n",
    "plt.rcParams.update({'font.size': 18})\n",
    "\n",
    "t = np.arange(-3,3,0.01)\n",
    "\n",
    "Utrue = np.array([np.cos(17*t) * np.exp(-t**2), np.sin(11*t)]).T\n",
    "Strue = np.array([[2, 0],[0, 0.5]])\n",
    "Vtrue = np.array([np.sin(5*t) * np.exp(-t**2), np.cos(13*t)]).T\n",
    "\n",
    "X = Utrue @ Strue @ Vtrue.T\n",
    "Xr = np.linalg.matrix_rank(X)\n",
    "print(Xr)\n",
    "plt.imshow(X)\n",
    "plt.set_cmap('gray')\n",
    "plt.axis('off')\n",
    "plt.show()"
   ]
  },
  {
   "cell_type": "markdown",
   "metadata": {},
   "source": [
    "이미지 원본"
   ]
  },
  {
   "cell_type": "code",
   "execution_count": null,
   "metadata": {},
   "outputs": [],
   "source": [
    "sigma = 1\n",
    "Xnoisy = X + sigma*np.random.randn(*X.shape)  #무작위 노이즈 추가\n",
    "plt.imshow(Xnoisy)\n",
    "plt.set_cmap('gray')\n",
    "plt.axis('off')\n",
    "plt.show()"
   ]
  },
  {
   "cell_type": "markdown",
   "metadata": {},
   "source": [
    "최초 이미지에 무작위 노이즈를 추가한 결과\n"
   ]
  },
  {
   "cell_type": "code",
   "execution_count": null,
   "metadata": {},
   "outputs": [],
   "source": [
    "U, S, VT = np.linalg.svd(Xnoisy,full_matrices=0)\n",
    "N = Xnoisy.shape[0]  #이미지 크기 확인\n",
    "cutoff = (4/np.sqrt(3)) * np.sqrt(N) * sigma # Hard threshold   하드 임계값 계산\n",
    "r = np.max(np.where(S > cutoff)) # Keep modes w/ sig > cutoff    이미지에서 주요 정보를 포함한 주요 모드의 수 나타냄\n",
    "\n",
    "Xclean = U[:,:(r+1)] @ np.diag(S[:(r+1)]) @ VT[:(r+1),:]    #이미지 복원    특이값 중 상위 r+1개를 사용해 이미지 복원\n",
    "\n",
    "Xcr = np.linalg.matrix_rank(Xclean)\n",
    "print(Xcr)\n",
    "\n",
    "plt.imshow(Xclean)\n",
    "plt.set_cmap('gray')\n",
    "plt.axis('off')\n",
    "plt.show()"
   ]
  },
  {
   "cell_type": "markdown",
   "metadata": {},
   "source": [
    "SVD를 사용해 U, S, VT를 구한 후 hard threshold값을 계산하고 r값을 계산한다. 특이값중 상위 r+1개를 사용해 이미지를 복원한다."
   ]
  },
  {
   "cell_type": "code",
   "execution_count": null,
   "metadata": {},
   "outputs": [],
   "source": [
    "cdS = np.cumsum(S) / np.sum(S) # Cumulative energy    누적 에너지 계산\n",
    "r90 = np.min(np.where(cdS > 0.90)) # Find r to capture 90% energy    90%이상의 에너지를 가진 인덱스중 최소값을 선택\n",
    "\n",
    "X90 = U[:,:(r90+1)] @ np.diag(S[:(r90+1)]) @ VT[:(r90+1),:]     # 이미지 복원\n",
    "X90r = np.linalg.matrix_rank(X90)\n",
    "print(X90r)\n",
    "plt.imshow(X90)\n",
    "plt.set_cmap('gray')\n",
    "plt.axis('off')\n",
    "plt.show()\n",
    "# "
   ]
  },
  {
   "cell_type": "markdown",
   "metadata": {},
   "source": [
    "* 이미지의 특이값 S를 사용해 에너지를 누적 합산한다. 그 후 np.sum(S)로 나누어 정규화를 함.\n",
    "* 에너지가 90%이상인 인덱스를 찾아 최소값을 구함\n",
    "* r90을 사용해 이미지를 복원하고 나타냄.\n",
    "* 90%의 풀랭크를 사용하는 것은 그리 좋지 않다.\n",
    "* hard threshold가 노이즈를 더 많이 효율적으로 필터링 함을 확인할 수 있다."
   ]
  },
  {
   "cell_type": "code",
   "execution_count": null,
   "metadata": {},
   "outputs": [],
   "source": [
    "## Plot Singular Values\n",
    "# 노이즈 임계값과 누적 에너지를 그래프로 확인해 어떤 특이값을 선택하고 이미지를 처리할지 결정하는 데 시각적으로 보여줌\n",
    "\n",
    "\n",
    "fig1,ax1 = plt.subplots(1)\n",
    "\n",
    "ax1.semilogy(S,'-o', color='k', linewidth=2)\n",
    "ax1.semilogy(np.diag(S[:(r+1)]),'o', color='r', linewidth=2)\n",
    "ax1.plot(np.array([-20, N+20]),np.array([cutoff, cutoff]),'--', color='r', linewidth=2)\n",
    "rect = patches.Rectangle((-5,20),100,200,linewidth=2,linestyle='--',facecolor='none',edgecolor='k')\n",
    "ax1.add_patch(rect)\n",
    "plt.xlim((-10,610))\n",
    "plt.ylim((0.003,300))\n",
    "ax1.grid()\n",
    "plt.show()\n",
    "# 붉은 점선은 노이즈 임계값을 (cut off) 나타내며 어떤 특이값이 중요한지 결정할 수 있다.\n",
    "\n",
    "\n",
    "fig2,ax2 = plt.subplots(1)\n",
    "\n",
    "ax2.semilogy(S,'-o', color='k', linewidth=2)\n",
    "ax2.semilogy(np.diag(S[:(r+1)]),'o', color='r', linewidth=2)\n",
    "ax2.plot(np.array([-20, N+20]),np.array([cutoff, cutoff]),'--', color='r', linewidth=2)\n",
    "plt.xlim((-5,100))\n",
    "plt.ylim((20,200))\n",
    "ax2.grid()\n",
    "plt.show()\n",
    "# 노이즈의 임계값을 더 자세히 확인할 수 있음\n",
    "\n",
    "\n",
    "fig3,ax3 = plt.subplots(1)\n",
    "ax3.plot(cdS,'-o',color='k',linewidth=2)\n",
    "ax3.plot(cdS[:(r90+1)],'o',color='b',linewidth=2)\n",
    "ax3.plot(cdS[:(r+1)],'o',color='r',linewidth=2)\n",
    "plt.xticks(np.array([0, 300, r90, 600]))\n",
    "plt.yticks(np.array([0, 0.5, 0.9, 1]))\n",
    "plt.xlim((-10,610))\n",
    "ax3.plot(np.array([r90, r90, -10]),np.array([0, 0.9, 0.9]),'--',color='b',linewidth=2)\n",
    "\n",
    "ax3.grid()\n",
    "plt.show()\n",
    "# 특이값의 누적 에너지를 나타냄\n",
    "# 90%의 에너지를 보존하는 랭크는 파란색 선으로 나타나짐\n",
    "# 붉은 점은 현재 선택한 랭크까지의 누적 에너지를 나타냄\n",
    "# rank가 401일 때 (90%) 노이즈가 살아나기에 다 복원할 필요가 없다.\n"
   ]
  },
  {
   "cell_type": "markdown",
   "metadata": {},
   "source": [
    "* Importance of Data Alignment\n",
    "    * 정렬되지 않은 데이터의 SVDd의 pitfall을 다룸\n",
    "    * 데이터의 차원 축소 및 일관된 특징을 추출할 때 central weakness of SVD 를 보여줌\n",
    "    * 내부 사각형을 회전시키면 이미지 축과 정렬되지 않기에 추가적인 non-zero singular values가 스펙트럼에 나타남을 확인할 수 있음.\n",
    "    * SVD는 geometric 하기에 데이터가 나타내는 좌표 시스템에 의존한다. unitary transformation 의 경우에만 일반적으로 변하지 않는다. \n",
    "    * 열의 개체가 이동, 회전 및 크기 조정이 되면 SVD rank가 폭발적으로 증가하기에 사전 처리를 하지 않은 데이터에 사용이 매우 제한됨"
   ]
  },
  {
   "cell_type": "code",
   "execution_count": null,
   "metadata": {},
   "outputs": [],
   "source": [
    "import matplotlib.pyplot as plt\n",
    "import numpy as np\n",
    "import scipy.misc\n",
    "plt.rcParams['figure.figsize'] = [8,8]\n",
    "plt.rcParams.update({'font.size': 18})\n",
    "\n",
    "n = 1000\n",
    "q = int(n/4)\n",
    "X = np.zeros((n,n))\n",
    "X[(q-1):(3*q),(q-1):(3*q)] = 1\n",
    "\n",
    "plt.imshow(X)\n",
    "plt.set_cmap('gray')\n",
    "plt.axis('off')\n",
    "plt.title('Unrotated Matrix')\n",
    "plt.show()\n"
   ]
  },
  {
   "cell_type": "markdown",
   "metadata": {},
   "source": [
    "이미지 원본"
   ]
  },
  {
   "cell_type": "code",
   "execution_count": null,
   "metadata": {},
   "outputs": [],
   "source": [
    "X_rot = skimage.transform.rotate(X,10)\n",
    "X_rot[np.nonzero(X_rot)] = 1\n",
    "\n",
    "\n",
    "plt.imshow(Y)\n",
    "plt.set_cmap('gray')\n",
    "plt.axis('off')\n",
    "plt.title('Rotated Matrix')\n",
    "plt.show()"
   ]
  },
  {
   "cell_type": "markdown",
   "metadata": {},
   "source": [
    "이미지 원본을 10도 회전시킴"
   ]
  },
  {
   "cell_type": "code",
   "execution_count": null,
   "metadata": {},
   "outputs": [],
   "source": [
    "U, S, VT = np.linalg.svd(X,full_matrices=0)\n",
    "\n",
    "\n",
    "plt.semilogy(S,'-o',color='k')\n",
    "plt.ylim((10**(-16),10**(4)+1))\n",
    "plt.yticks(np.power(10,np.arange(-16,4,4, dtype=float)))\n",
    "plt.xticks(np.arange(0,1000,250))\n",
    "plt.grid()\n",
    "plt.title('Unrotated Matrix: Spectrum')\n",
    "plt.show()"
   ]
  },
  {
   "cell_type": "markdown",
   "metadata": {},
   "source": [
    "원본 이미지의 SVD 스펙트럼. x축, y축과 정력이 완벽하게 되어있으면 1개의 non-zero singular value를 가지고 이에 대응하는 폭과 높이를 가진 특이 벡터를 가짐"
   ]
  },
  {
   "cell_type": "code",
   "execution_count": null,
   "metadata": {},
   "outputs": [],
   "source": [
    "U_rot, S_rot, VT_rot = np.linalg.svd(X_rot,full_matrices=0)\n",
    "\n",
    "plt.semilogy(S_rot,'-o',color='k')\n",
    "plt.ylim((10**(-16),10**(4)+1))\n",
    "plt.yticks(np.power(10,np.arange(-16,4,4, dtype=float)))\n",
    "plt.xticks(np.arange(0,1000,250))\n",
    "plt.grid()\n",
    "plt.title('Rotated Matrix: Spectrum')\n",
    "plt.show()"
   ]
  },
  {
   "cell_type": "markdown",
   "metadata": {},
   "source": [
    "* 회전된 이미지의 SVD 스펙트럼. 스펙트럼이 훨씬 복잡해 짐을 볼 수 있고 추가적인 non-zero singular values가 생김. \n",
    "* 위 예제들을 통해 SVD는 기능적으로 geometric하다는 것을 확인할 수 있다."
   ]
  },
  {
   "cell_type": "code",
   "execution_count": null,
   "metadata": {},
   "outputs": [],
   "source": [
    "import matplotlib.pyplot as plt\n",
    "import matplotlib.cm\n",
    "import numpy as np\n",
    "import skimage.transform\n",
    "\n",
    "plt.rcParams['figure.figsize'] = [12,6]\n",
    "plt.rcParams.update({'font.size': 18})\n",
    "\n",
    "n = 1000\n",
    "q = int(n/4)\n",
    "X = np.zeros((n,n))\n",
    "X[(q-1):(3*q),(q-1):(3*q)] = 1\n",
    "\n",
    "nAngles = 12 # Sweep through 12 different angles, from 0:4:44 degrees\n",
    "cm_np = np.array([[0,0,2/3],\n",
    "                 [0,0,1],\n",
    "                 [0,1/3,1],\n",
    "                 [0,2/3,1],\n",
    "                 [0,1,1],\n",
    "                 [1/3,1,2/3],\n",
    "                 [2/3,1,1/3],\n",
    "                 [1,1,0],\n",
    "                 [1,2/3,0],\n",
    "                 [1,1/3,0],\n",
    "                 [1,0,0],\n",
    "                 [2/3,0,0]])\n",
    "\n",
    "\n",
    "cmap = plt.cm.jet\n",
    "cmap.set_bad(alpha = 0.0)\n",
    "\n",
    "U, S, VT = np.linalg.svd(X,full_matrices=0)\n",
    "\n",
    "fig1 = plt.figure()\n",
    "ax1 = fig1.add_subplot(121)\n",
    "plt.imshow(np.ma.masked_where(X == 0, X),vmin=0,vmax=nAngles)\n",
    "plt.set_cmap(cmap)\n",
    "plt.axis('off')\n",
    "\n",
    "\n",
    "ax2 = fig1.add_subplot(122)\n",
    "plt.semilogy(S,'-o',color=tuple(cm_np[0]))\n",
    "plt.grid()\n",
    "\n",
    "plt.show()"
   ]
  },
  {
   "cell_type": "code",
   "execution_count": null,
   "metadata": {},
   "outputs": [],
   "source": [
    "Xrot = X\n",
    "\n",
    "fig, axs = plt.subplots(1,2)\n",
    "\n",
    "for j in range(nAngles):\n",
    "    Xrot = skimage.transform.rotate(X,j*4) #rotate by theta = j*4 degrees\n",
    "    Xrot[np.nonzero(Xrot)] = j\n",
    "    \n",
    "    U, S, VT = np.linalg.svd(Xrot)\n",
    "\n",
    "    axs[0].imshow(np.ma.masked_where(Xrot == 0, Xrot),vmin=0,vmax=nAngles)\n",
    "    plt.set_cmap(cmap)\n",
    "    axs[0].axis('off')\n",
    "\n",
    "    axs[1].semilogy(S,'-o',color=tuple(cm_np[j]))\n",
    "    axs[1].axis('on')\n",
    "    axs[1].grid(1)\n",
    "\n",
    "plt.show()"
   ]
  },
  {
   "cell_type": "markdown",
   "metadata": {},
   "source": [
    "회전각이 커질 수록 SVD 스펙트럼이 더 복잡해지고 non-zero singular values가 더 많아짐을 확인할 수 있다."
   ]
  }
 ],
 "metadata": {
  "kernelspec": {
   "display_name": "Python 3",
   "language": "python",
   "name": "python3"
  },
  "language_info": {
   "codemirror_mode": {
    "name": "ipython",
    "version": 3
   },
   "file_extension": ".py",
   "mimetype": "text/x-python",
   "name": "python",
   "nbconvert_exporter": "python",
   "pygments_lexer": "ipython3",
   "version": "3.8.10"
  }
 },
 "nbformat": 4,
 "nbformat_minor": 2
}
