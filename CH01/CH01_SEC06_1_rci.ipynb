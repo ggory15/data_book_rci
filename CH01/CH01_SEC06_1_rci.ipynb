{
 "cells": [
  {
   "cell_type": "markdown",
   "metadata": {},
   "source": [
    "# 1.6 Eigenfaces code review\n",
    "\n",
    "* 데이터 행렬 $X$의 열벡터들은 사람의 얼굴사진을 벡터로 구성하였다.\n",
    "* 해당데이터의 $PCA$를 사용하여 고유 얼굴 표현이라고 부르는 인간얼굴에 대한 새로운 표현을 찾을 수 있다.\n",
    "* 아래 코드들은 Yale faces B 데이터 세트를 기반으로 수집되었다.\n",
    "* 38명의 사람과 각 개인은 64개의 카메라이미지를 가지고 있다. \n",
    "* 해상도는 약32,000이고, 해당 이미지는 약 2,400개가 있으므로 $X \\in R^{32,000 \\times 2,400}$ 이며, 방대한 행렬임을 알 수 있다.\n",
    "* 아래 코드는 SVD를 계산과 고유면에 대한 것이다."
   ]
  },
  {
   "cell_type": "code",
   "execution_count": null,
   "metadata": {},
   "outputs": [],
   "source": [
    "import matplotlib.pyplot as plt\n",
    "import numpy as np\n",
    "import os\n",
    "import scipy.io\n",
    "plt.rcParams['figure.figsize'] = [10, 10]\n",
    "plt.rcParams.update({'font.size': 18})\n",
    "\n",
    "mat_contents = scipy.io.loadmat(os.path.join('..','DATA','allFaces.mat'))\n",
    "faces = mat_contents['faces']\n",
    "m = int(mat_contents['m'])\n",
    "n = int(mat_contents['n'])\n",
    "nfaces = np.ndarray.flatten(mat_contents['nfaces'])\n",
    "\n",
    "allPersons = np.zeros((n*6,m*6))\n",
    "count = 0\n",
    "\n",
    "# 6 by 6 행렬로 사람의 이미지 행렬.\n",
    "for j in range(6):\n",
    "    for k in range(6):\n",
    "        allPersons[j*n : (j+1)*n, k*m : (k+1)*m] = np.reshape(faces[:,np.sum(nfaces[:count])],(m,n)).T\n",
    "        count += 1\n",
    "        \n",
    "img = plt.imshow(allPersons)\n",
    "img.set_cmap('gray')\n",
    "plt.axis('off')\n",
    "plt.show()"
   ]
  },
  {
   "cell_type": "markdown",
   "metadata": {},
   "source": [
    "* 행렬에 있는 36명의 사람들을 사용하여 모든 인간의 얼굴을 표현할 수 있는 직교 기반을 구축하는 예제코드."
   ]
  },
  {
   "cell_type": "code",
   "execution_count": null,
   "metadata": {},
   "outputs": [],
   "source": [
    "for person in range(len(nfaces)):\n",
    "    subset = faces[:,sum(nfaces[:person]) : sum(nfaces[:(person+1)])]\n",
    "    allFaces = np.zeros((n*8,m*8))\n",
    "    \n",
    "    count = 0\n",
    "    \n",
    "    for j in range(8):\n",
    "        for k in range(8):\n",
    "            if count < nfaces[person]:\n",
    "                allFaces[j*n:(j+1)*n,k*m:(k+1)*m] = np.reshape(subset[:,count],(m,n)).T\n",
    "                count += 1\n",
    "                \n",
    "    img = plt.imshow(allFaces)\n",
    "    img.set_cmap('gray')\n",
    "    plt.axis('off')\n",
    "    plt.show()"
   ]
  }
 ],
 "metadata": {
  "kernelspec": {
   "display_name": "Python 3",
   "language": "python",
   "name": "python3"
  },
  "language_info": {
   "codemirror_mode": {
    "name": "ipython",
    "version": 3
   },
   "file_extension": ".py",
   "mimetype": "text/x-python",
   "name": "python",
   "nbconvert_exporter": "python",
   "pygments_lexer": "ipython3",
   "version": "3.7.3"
  }
 },
 "nbformat": 4,
 "nbformat_minor": 2
}
