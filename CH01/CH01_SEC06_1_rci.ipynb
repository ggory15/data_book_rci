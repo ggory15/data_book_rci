{
 "cells": [
  {
   "cell_type": "markdown",
   "metadata": {},
   "source": [
    "# 1.6 Eigenfaces code review\n",
    "\n",
    "* 데이터 행렬 $X$의 열벡터들은 사람의 얼굴사진을 벡터로 구성.\n",
    "* 해당데이터의 $PCA$를 사용하여 고유 얼굴 표현을 찾음.\n",
    "* 36명의 사람들과 각각의 개인은 64개의 조명의 카메라이미지를 담고 있다.\n",
    "* 해상도는 약32,000이고, 해당 이미지는 약 2,400개 있다.\n",
    "* 아래 코드는 SVD를 계산과 고유면에 대한 것이다."
   ]
  },
  {
   "cell_type": "code",
   "execution_count": null,
   "metadata": {},
   "outputs": [],
   "source": [
    "import matplotlib.pyplot as plt\n",
    "import numpy as np\n",
    "import os\n",
    "import scipy.io #matlab 파일을 읽어오는 라이브러리\n",
    "plt.rcParams['figure.figsize'] = [10, 10]\n",
    "plt.rcParams.update({'font.size': 18})\n",
    "\n",
    "mat_contents = scipy.io.loadmat(os.path.join('..','DATA','allFaces.mat')) #matlab에서 읽어온 데이터를 mat_contents변수에 저장\n",
    "# print(mat_contents) \n",
    "\n",
    "faces = mat_contents['faces'] \n",
    "m = int(mat_contents['m']) \n",
    "# print(m)\n",
    "n = int(mat_contents['n'])\n",
    "# print(n)\n",
    "nfaces = np.ndarray.flatten(mat_contents['nfaces'])\n",
    "print(nfaces) # 1*36 vector\n",
    "\n",
    "allPersons = np.zeros((n*6,m*6)) # 데이터행렬\n",
    "count = 0\n",
    "\n",
    "for j in range(6):\n",
    "    for k in range(6):\n",
    "        allPersons[j*n : (j+1)*n, k*m : (k+1)*m] = np.reshape(faces[:,np.sum(nfaces[:count])],(m,n)).T\n",
    "        count += 1\n",
    "        \n",
    "img = plt.imshow(allPersons)\n",
    "img.set_cmap('gray')\n",
    "plt.axis('off')\n",
    "plt.show()"
   ]
  },
  {
   "cell_type": "markdown",
   "metadata": {},
   "source": [
    "* 36명의 사람에대한 64개 서로 다른 조명 조건."
   ]
  },
  {
   "cell_type": "code",
   "execution_count": null,
   "metadata": {},
   "outputs": [],
   "source": [
    "for person in range(len(nfaces)): #1~36 \n",
    "    \n",
    "    subset = faces[:,sum(nfaces[:person]) : sum(nfaces[:(person+1)])] #사람의 얼굴 이미지 데이터 저장\n",
    "    print(subset.shape) \n",
    "    allFaces = np.zeros((n*8,m*8))\n",
    "    \n",
    "    count = 0\n",
    "    \n",
    "    for j in range(8):\n",
    "        for k in range(8):\n",
    "            if count < nfaces[person]:\n",
    "                allFaces[j*n:(j+1)*n,k*m:(k+1)*m] = np.reshape(subset[:,count],(m,n)).T\n",
    "                count += 1\n",
    "                \n",
    "    img = plt.imshow(allFaces)\n",
    "    img.set_cmap('gray')\n",
    "    plt.axis('off')\n",
    "    plt.show()"
   ]
  }
 ],
 "metadata": {
  "kernelspec": {
   "display_name": "Python 3",
   "language": "python",
   "name": "python3"
  },
  "language_info": {
   "codemirror_mode": {
    "name": "ipython",
    "version": 3
   },
   "file_extension": ".py",
   "mimetype": "text/x-python",
   "name": "python",
   "nbconvert_exporter": "python",
   "pygments_lexer": "ipython3",
   "version": "3.8.10"
  }
 },
 "nbformat": 4,
 "nbformat_minor": 2
}
